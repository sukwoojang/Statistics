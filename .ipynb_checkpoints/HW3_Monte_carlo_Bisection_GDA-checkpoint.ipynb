{
 "cells": [
  {
   "cell_type": "code",
   "execution_count": 6,
   "metadata": {},
   "outputs": [],
   "source": [
    "import numpy as np\n",
    "import matplotlib.pyplot as plt\n",
    "from skimage import color"
   ]
  },
  {
   "cell_type": "code",
   "execution_count": 7,
   "metadata": {},
   "outputs": [],
   "source": [
    "img = plt.imread('./image/image.png')"
   ]
  },
  {
   "cell_type": "code",
   "execution_count": 8,
   "metadata": {},
   "outputs": [
    {
     "data": {
      "image/png": "[encoded data removed]",
      "text/plain": [
       "<Figure size 432x288 with 1 Axes>"
      ]
     },
     "metadata": {
      "needs_background": "light"
     },
     "output_type": "display_data"
    },
    {
     "data": {
      "text/plain": [
       "(473, 424, 3)"
      ]
     },
     "execution_count": 8,
     "metadata": {},
     "output_type": "execute_result"
    }
   ],
   "source": [
    "plt.imshow(img)\n",
    "plt.show()\n",
    "img.shape"
   ]
  },
  {
   "cell_type": "code",
   "execution_count": 9,
   "metadata": {},
   "outputs": [
    {
     "data": {
      "text/plain": [
       "array([[1., 1., 1., ..., 1., 1., 1.],\n",
       "       [1., 1., 1., ..., 1., 1., 1.],\n",
       "       [1., 1., 1., ..., 1., 1., 1.],\n",
       "       ...,\n",
       "       [1., 1., 1., ..., 1., 1., 1.],\n",
       "       [1., 1., 1., ..., 1., 1., 1.],\n",
       "       [1., 1., 1., ..., 1., 1., 1.]], dtype=float32)"
      ]
     },
     "execution_count": 9,
     "metadata": {},
     "output_type": "execute_result"
    }
   ],
   "source": [
    "img = img[:,:,0]\n",
    "img"
   ]
  },
  {
   "cell_type": "code",
   "execution_count": 10,
   "metadata": {
    "scrolled": true
   },
   "outputs": [
    {
     "data": {
      "text/plain": [
       "array([[0., 0., 0., ..., 0., 0., 0.],\n",
       "       [0., 0., 0., ..., 0., 0., 0.],\n",
       "       [0., 0., 0., ..., 0., 0., 0.],\n",
       "       ...,\n",
       "       [0., 0., 0., ..., 0., 0., 0.],\n",
       "       [0., 0., 0., ..., 0., 0., 0.],\n",
       "       [0., 0., 0., ..., 0., 0., 0.]], dtype=float32)"
      ]
     },
     "execution_count": 10,
     "metadata": {},
     "output_type": "execute_result"
    }
   ],
   "source": [
    "img = -img + 1\n",
    "img"
   ]
  },
  {
   "cell_type": "code",
   "execution_count": 16,
   "metadata": {},
   "outputs": [],
   "source": [
    "n = 100000\n",
    "x = np.random.randint(img.shape[0]-1, size = n)\n",
    "y = np.random.randint(img.shape[1]-1, size = n)"
   ]
  },
  {
   "cell_type": "code",
   "execution_count": 13,
   "metadata": {},
   "outputs": [],
   "source": [
    "def in_out(xx, yy):\n",
    "    return np.sum(img[0:xx, yy]) * np.sum(img[xx+1:,yy]) * np.sum(img[xx,0:yy]) * np.sum(img[xx,yy+1:]) == 0\n"
   ]
  },
  {
   "cell_type": "code",
   "execution_count": 17,
   "metadata": {},
   "outputs": [
    {
     "name": "stdout",
     "output_type": "stream",
     "text": [
      "97648.7688\n"
     ]
    }
   ],
   "source": [
    "cnt = 0\n",
    "for i in range(n):\n",
    "    if in_out(x[i],y[i]) == False:\n",
    "        cnt += 1\n",
    "area = img.shape[0] * img.shape[1] * cnt / n\n",
    "print(area)\n",
    "        "
   ]
  },
  {
   "cell_type": "code",
   "execution_count": 18,
   "metadata": {},
   "outputs": [
    {
     "data": {
      "text/plain": [
       "-1.3064400255680084"
      ]
     },
     "execution_count": 18,
     "metadata": {},
     "output_type": "execute_result"
    }
   ],
   "source": [
    "def Bisection_method(f,low,high):\n",
    "    interval = (high -low) / 2\n",
    "    while interval >= 10e-8:\n",
    "        m = low + interval\n",
    "        if f(m) < f(low) and f(m) < f(high):\n",
    "            high = m\n",
    "            m = (low + high) / 2\n",
    "            interval = interval / 2\n",
    "        elif f(low) > f(m) and f(m) > f(high):\n",
    "            low += interval\n",
    "            m = low + interval\n",
    "            high = m + interval\n",
    "        elif f(low) < f(m) and f(m) < f(high):\n",
    "            low -= interval\n",
    "            m = low +interval\n",
    "            high = m + interval\n",
    "    return m\n",
    "\n",
    "def f(x):\n",
    "    return (x**2) + 10 * np.sin(x)\n",
    "\n",
    "Bisection_method(f, -2, 10)\n",
    "    "
   ]
  },
  {
   "cell_type": "code",
   "execution_count": 21,
   "metadata": {},
   "outputs": [
    {
     "name": "stdout",
     "output_type": "stream",
     "text": [
      "-74.27485167875784\n",
      "-67.06367138588757\n",
      "-60.12614443955681\n",
      "-53.660275864678624\n",
      "-47.8101892259765\n",
      "-42.64236131974212\n",
      "-38.49251348834241\n",
      "-34.9939973965611\n",
      "-31.041469028770734\n",
      "-28.402671073599322\n",
      "-25.06651772768646\n",
      "-23.058773312306585\n",
      "-20.511775852873598\n",
      "-18.414980013012155\n",
      "-17.027000823964727\n",
      "-15.19972769458559\n",
      "-13.242969840965884\n",
      "-12.308546810252324\n",
      "-11.56116432750946\n",
      "-10.672988819386092\n",
      "-9.44716136500216\n",
      "-8.002574918769028\n",
      "-7.12832361864028\n",
      "-6.747328869379714\n",
      "-6.5197148151227395\n",
      "-6.353832725419267\n",
      "-6.217208971221282\n",
      "-6.094403600513203\n",
      "-5.976080343997808\n",
      "-5.855076118179852\n",
      "-5.724439300944056\n",
      "-5.575947391494623\n",
      "-5.398421108661438\n",
      "-5.175300640217245\n",
      "-4.881030817670478\n",
      "-4.4768298949044265\n",
      "-3.9124342621398682\n",
      "-3.1625161470102796\n",
      "-2.3463784542433856\n",
      "-1.7616975393119176\n",
      "-1.4906854250435302\n",
      "-1.3816594225605598\n",
      "-1.3375286648399758\n",
      "-1.3193840777600379\n",
      "-1.3118609126864627\n",
      "-1.308729788417267\n",
      "-1.3074244975294462\n",
      "-1.3068799786630052\n",
      "-1.3066527601145843\n",
      "-1.30655793420879\n",
      "-1.3065183581907718\n",
      "-1.3065018406154643\n",
      "-1.3064949467251168\n",
      "-1.3064920694329345\n",
      "-1.306490868540216\n",
      "-1.30649036732337\n",
      "-1.3064901581324833\n",
      "-1.306490070821436\n",
      "-1.3064900343812518\n",
      "-1.3064900191720845\n",
      "-1.3064900128242734\n",
      "-1.306490010174393\n",
      "-1.306490009068611\n",
      "-1.3064900086072022\n",
      "-1.3064900084144675\n",
      "-1.3064900083345314\n",
      "-1.3064900083007807\n",
      "-1.3064900082865698\n",
      "-1.3064900082799085\n",
      "-1.306490008277688\n",
      "-1.3064900082763558\n",
      "-1.3064900082750235\n",
      "-1.3064900082750235\n",
      "-1.3064900082750235\n",
      "-1.3064900082750235\n",
      "-1.3064900082750235\n",
      "-1.3064900082750235\n",
      "-1.3064900082750235\n",
      "-1.3064900082750235\n",
      "-1.3064900082750235\n",
      "-1.3064900082750235\n",
      "-1.3064900082750235\n",
      "-1.3064900082750235\n",
      "-1.3064900082750235\n",
      "-1.3064900082750235\n",
      "-1.3064900082750235\n",
      "-1.3064900082750235\n",
      "-1.3064900082750235\n",
      "-1.3064900082750235\n",
      "-1.3064900082750235\n",
      "-1.3064900082750235\n",
      "-1.3064900082750235\n",
      "-1.3064900082750235\n",
      "-1.3064900082750235\n",
      "-1.3064900082750235\n",
      "-1.3064900082750235\n",
      "-1.3064900082750235\n",
      "-1.3064900082750235\n",
      "-1.3064900082750235\n",
      "-1.3064900082750235\n",
      "-1.3064900082750235\n",
      "-1.3064900082750235\n",
      "-1.3064900082750235\n",
      "-1.3064900082750235\n",
      "-1.3064900082750235\n",
      "-1.3064900082750235\n",
      "-1.3064900082750235\n",
      "-1.3064900082750235\n",
      "-1.3064900082750235\n",
      "-1.3064900082750235\n",
      "-1.3064900082750235\n",
      "-1.3064900082750235\n",
      "-1.3064900082750235\n",
      "-1.3064900082750235\n",
      "-1.3064900082750235\n",
      "-1.3064900082750235\n",
      "-1.3064900082750235\n",
      "-1.3064900082750235\n",
      "-1.3064900082750235\n",
      "-1.3064900082750235\n",
      "-1.3064900082750235\n",
      "-1.3064900082750235\n",
      "-1.3064900082750235\n",
      "-1.3064900082750235\n",
      "-1.3064900082750235\n",
      "-1.3064900082750235\n",
      "-1.3064900082750235\n",
      "-1.3064900082750235\n",
      "-1.3064900082750235\n",
      "-1.3064900082750235\n",
      "-1.3064900082750235\n",
      "-1.3064900082750235\n",
      "-1.3064900082750235\n",
      "-1.3064900082750235\n",
      "-1.3064900082750235\n",
      "-1.3064900082750235\n",
      "-1.3064900082750235\n",
      "-1.3064900082750235\n",
      "-1.3064900082750235\n",
      "-1.3064900082750235\n",
      "-1.3064900082750235\n",
      "-1.3064900082750235\n",
      "-1.3064900082750235\n",
      "-1.3064900082750235\n",
      "-1.3064900082750235\n",
      "-1.3064900082750235\n",
      "-1.3064900082750235\n",
      "-1.3064900082750235\n",
      "-1.3064900082750235\n",
      "-1.3064900082750235\n",
      "-1.3064900082750235\n",
      "-1.3064900082750235\n",
      "-1.3064900082750235\n",
      "-1.3064900082750235\n",
      "-1.3064900082750235\n",
      "-1.3064900082750235\n",
      "-1.3064900082750235\n",
      "-1.3064900082750235\n",
      "-1.3064900082750235\n",
      "-1.3064900082750235\n",
      "-1.3064900082750235\n",
      "-1.3064900082750235\n",
      "-1.3064900082750235\n",
      "-1.3064900082750235\n",
      "-1.3064900082750235\n",
      "-1.3064900082750235\n",
      "-1.3064900082750235\n",
      "-1.3064900082750235\n",
      "-1.3064900082750235\n",
      "-1.3064900082750235\n",
      "-1.3064900082750235\n",
      "-1.3064900082750235\n",
      "-1.3064900082750235\n",
      "-1.3064900082750235\n",
      "-1.3064900082750235\n",
      "-1.3064900082750235\n",
      "-1.3064900082750235\n",
      "-1.3064900082750235\n",
      "-1.3064900082750235\n",
      "-1.3064900082750235\n",
      "-1.3064900082750235\n",
      "-1.3064900082750235\n",
      "-1.3064900082750235\n",
      "-1.3064900082750235\n",
      "-1.3064900082750235\n",
      "-1.3064900082750235\n",
      "-1.3064900082750235\n",
      "-1.3064900082750235\n",
      "-1.3064900082750235\n",
      "-1.3064900082750235\n",
      "-1.3064900082750235\n",
      "-1.3064900082750235\n",
      "-1.3064900082750235\n",
      "-1.3064900082750235\n",
      "-1.3064900082750235\n",
      "-1.3064900082750235\n",
      "-1.3064900082750235\n",
      "-1.3064900082750235\n",
      "-1.3064900082750235\n",
      "-1.3064900082750235\n"
     ]
    }
   ],
   "source": [
    "#Gradient descent algorithm\n",
    "def d(f,x,h = 0.0001):\n",
    "    return (f(x+h)-f(x))/h\n",
    "\n",
    "x = np.random.randint(-100,100)\n",
    "\n",
    "for i in range(200):\n",
    "    x = x - 0.05 * d(f,x)\n",
    "    print(x)"
   ]
  },
  {
   "cell_type": "code",
   "execution_count": null,
   "metadata": {},
   "outputs": [],
   "source": []
  }
 ],
 "metadata": {
  "kernelspec": {
   "display_name": "Python 3",
   "language": "python",
   "name": "python3"
  },
  "language_info": {
   "codemirror_mode": {
    "name": "ipython",
    "version": 3
   },
   "file_extension": ".py",
   "mimetype": "text/x-python",
   "name": "python",
   "nbconvert_exporter": "python",
   "pygments_lexer": "ipython3",
   "version": "3.8.3"
  }
 },
 "nbformat": 4,
 "nbformat_minor": 4
}
