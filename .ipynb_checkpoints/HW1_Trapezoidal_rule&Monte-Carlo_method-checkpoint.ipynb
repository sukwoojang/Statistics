{
 "cells": [
  {
   "cell_type": "markdown",
   "metadata": {},
   "source": [
    "<font color='red'> H.W #0: Numerical Integration(Using Trapezoidal rule, Monte-Carlo method)</font> <br>\n",
    "<br>\n",
    "$$ \\int_{1.96}^\\infty \\frac{1}{\\sqrt{2\\pi}} exp\\left(-\\frac{x^2}{2} \\right) \\, dx $$"
   ]
  },
  {
   "cell_type": "code",
   "execution_count": 12,
   "metadata": {},
   "outputs": [],
   "source": [
    "import math\n",
    "import numpy as np\n",
    "import random"
   ]
  },
  {
   "cell_type": "code",
   "execution_count": 10,
   "metadata": {},
   "outputs": [
    {
     "name": "stdout",
     "output_type": "stream",
     "text": [
      "0.0249988486954142\n"
     ]
    }
   ],
   "source": [
    "# Trapezoidal rule\n",
    "\n",
    "epsilon = 0.01\n",
    "summ = 0\n",
    "def Numeric(x):\n",
    "    result = 1 / math.sqrt(2 * math.pi) * math.exp(-x*x / 2)\n",
    "    return result\n",
    "\n",
    "for i in np.arange(1.96, 6, 0.01):\n",
    "    a_result = Numeric(i)\n",
    "    b_result = Numeric(i + epsilon)\n",
    "    summ += (a_result + b_result) * epsilon / 2\n",
    "    \n",
    "print(summ)"
   ]
  },
  {
   "cell_type": "code",
   "execution_count": 70,
   "metadata": {},
   "outputs": [
    {
     "name": "stdout",
     "output_type": "stream",
     "text": [
      "0.025668340986674837 108449 891551\n"
     ]
    }
   ],
   "source": [
    "# Monte_Carlo method\n",
    "\n",
    "sample_x = np.arange(1.96, 6.01, 0.01)\n",
    "sample_y = np.arange(0, Numeric(1.96),0.0001)\n",
    "hitcnt = 0\n",
    "misscnt = 0\n",
    "n = 1000000\n",
    "square = (6.01 - 1.96) * (Numeric(1.96) - 0)\n",
    "\n",
    "for i in range(n):\n",
    "    x = random.choice(sample_x)\n",
    "    y = random.choice(sample_y)\n",
    "    x_result = Numeric(x)\n",
    "    if y <= x_result:\n",
    "        hitcnt += 1\n",
    "    else:\n",
    "        misscnt += 1\n",
    "ratio = hitcnt / n\n",
    "result = square * ratio\n",
    "print(result, hitcnt , misscnt)"
   ]
  },
  {
   "cell_type": "code",
   "execution_count": null,
   "metadata": {},
   "outputs": [],
   "source": []
  }
 ],
 "metadata": {
  "kernelspec": {
   "display_name": "Python 3",
   "language": "python",
   "name": "python3"
  },
  "language_info": {
   "codemirror_mode": {
    "name": "ipython",
    "version": 3
   },
   "file_extension": ".py",
   "mimetype": "text/x-python",
   "name": "python",
   "nbconvert_exporter": "python",
   "pygments_lexer": "ipython3",
   "version": "3.7.1"
  }
 },
 "nbformat": 4,
 "nbformat_minor": 2
}
