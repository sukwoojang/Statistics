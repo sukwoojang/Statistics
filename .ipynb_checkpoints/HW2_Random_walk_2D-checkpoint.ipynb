{
 "cells": [
  {
   "cell_type": "code",
   "execution_count": 10,
   "metadata": {},
   "outputs": [],
   "source": [
    "import numpy as np\n",
    "import matplotlib.pyplot as plt\n",
    "\n",
    "def makeStories():\n",
    "    tMax = 100\n",
    "    nStories = 4\n",
    "    series = []\n",
    "    Stories = []\n",
    "\n",
    "    for i in range(tMax):\n",
    "        position = np.random.randint(0, 4)\n",
    "        if position == 0:\n",
    "            new_data = np.array([1,0])\n",
    "        elif position == 1:\n",
    "            new_data = np.array([-1,0])\n",
    "        elif position == 2:\n",
    "            new_data = np.array([0,1])\n",
    "        else:\n",
    "            new_data = np.array([0,-1])\n",
    "        series.append(new_data)\n",
    "        \n",
    "    return series\n",
    "\n"
   ]
  },
  {
   "cell_type": "code",
   "execution_count": 17,
   "metadata": {},
   "outputs": [],
   "source": [
    "Stories = []\n",
    "for i in range(4):\n",
    "    series = makeStories()\n",
    "    series = np.array(series)\n",
    "    positions = np.cumsum(series, axis=0)\n",
    "    positions= positions.T\n",
    "    Stories.append(positions)"
   ]
  },
  {
   "cell_type": "code",
   "execution_count": 18,
   "metadata": {},
   "outputs": [
    {
     "data": {
      "text/plain": [
       "[array([[-1,  0,  1,  0,  0,  0,  0,  0,  0,  1,  1,  1,  1,  2,  3,  4,\n",
       "          4,  4,  3,  3,  4,  4,  4,  4,  3,  2,  1,  1,  1,  2,  2,  1,\n",
       "          2,  1,  1,  1,  1,  1,  0,  0, -1, -1, -1, -2, -1, -1,  0,  0,\n",
       "          0,  1,  1,  1,  1,  1,  1,  2,  1,  2,  1,  2,  2,  2,  2,  3,\n",
       "          3,  3,  4,  5,  6,  5,  5,  6,  6,  5,  5,  5,  6,  5,  4,  4,\n",
       "          4,  5,  6,  6,  6,  6,  6,  5,  6,  6,  6,  6,  6,  6,  6,  6,\n",
       "          6,  7,  8,  8],\n",
       "        [ 0,  0,  0,  0, -1,  0, -1,  0, -1, -1, -2, -1, -2, -2, -2, -2,\n",
       "         -1,  0,  0,  1,  1,  0, -1,  0,  0,  0,  0, -1,  0,  0, -1, -1,\n",
       "         -1, -1, -2, -3, -2, -1, -1, -2, -2, -1,  0,  0,  0,  1,  1,  0,\n",
       "          1,  1,  2,  3,  4,  5,  6,  6,  6,  6,  6,  6,  7,  8,  7,  7,\n",
       "          6,  5,  5,  5,  5,  5,  6,  6,  7,  7,  6,  7,  7,  7,  7,  6,\n",
       "          5,  5,  5,  4,  5,  6,  7,  7,  7,  8,  7,  6,  7,  8,  7,  6,\n",
       "          7,  7,  7,  8]], dtype=int32),\n",
       " array([[ 1,  2,  1,  2,  1,  1,  0, -1,  0, -1, -1, -2, -2, -1, -1, -1,\n",
       "          0,  1,  2,  3,  3,  3,  3,  3,  2,  2,  2,  1,  1,  0,  0,  0,\n",
       "         -1, -1, -2, -1,  0, -1, -1, -1, -1, -2, -2, -1, -1, -1,  0,  0,\n",
       "         -1, -1,  0,  0,  0, -1, -1, -2, -2, -3, -2, -2, -2, -2, -3, -2,\n",
       "         -3, -2, -2, -3, -2, -2, -2, -1,  0,  0,  1,  0, -1,  0,  0,  0,\n",
       "         -1, -1, -1, -1, -1,  0,  0,  0,  0,  0,  1,  0,  0, -1, -2, -3,\n",
       "         -4, -3, -3, -2],\n",
       "        [ 0,  0,  0,  0,  0, -1, -1, -1, -1, -1, -2, -2, -1, -1, -2, -1,\n",
       "         -1, -1, -1, -1,  0,  1,  2,  3,  3,  2,  1,  1,  2,  2,  1,  0,\n",
       "          0,  1,  1,  1,  1,  1,  0,  1,  0,  0,  1,  1,  0,  1,  1,  2,\n",
       "          2,  3,  3,  4,  3,  3,  4,  4,  3,  3,  3,  4,  3,  2,  2,  2,\n",
       "          2,  2,  3,  3,  3,  4,  5,  5,  5,  6,  6,  6,  6,  6,  7,  8,\n",
       "          8,  9, 10, 11, 12, 12, 11, 10,  9, 10, 10, 10,  9,  9,  9,  9,\n",
       "          9,  9, 10, 10]], dtype=int32),\n",
       " array([[ 0, -1, -1,  0,  0,  1,  2,  2,  2,  2,  1,  2,  1,  2,  3,  3,\n",
       "          2,  1,  0, -1, -2, -2, -2, -2, -2, -3, -2, -3, -3, -2, -2, -3,\n",
       "         -3, -3, -4, -3, -3, -2, -3, -4, -4, -4, -4, -5, -4, -4, -4, -4,\n",
       "         -5, -5, -4, -4, -4, -3, -2, -2, -2, -2, -2, -3, -3, -4, -4, -3,\n",
       "         -4, -4, -4, -4, -4, -3, -3, -4, -4, -3, -3, -3, -4, -3, -3, -3,\n",
       "         -2, -2, -3, -4, -4, -4, -3, -4, -4, -4, -3, -3, -3, -3, -2, -2,\n",
       "         -3, -4, -4, -4],\n",
       "        [-1, -1, -2, -2, -3, -3, -3, -2, -1, -2, -2, -2, -2, -2, -2, -3,\n",
       "         -3, -3, -3, -3, -3, -2, -3, -4, -3, -3, -3, -3, -2, -2, -1, -1,\n",
       "          0,  1,  1,  1,  2,  2,  2,  2,  1,  0, -1, -1, -1,  0, -1, -2,\n",
       "         -2, -3, -3, -2, -1, -1, -1,  0,  1,  2,  1,  1,  0,  0,  1,  1,\n",
       "          1,  2,  3,  4,  5,  5,  6,  6,  5,  5,  6,  5,  5,  5,  6,  7,\n",
       "          7,  8,  8,  8,  7,  6,  6,  6,  5,  6,  6,  7,  8,  7,  7,  8,\n",
       "          8,  8,  9, 10]], dtype=int32),\n",
       " array([[ 1,  2,  3,  3,  3,  3,  2,  2,  2,  2,  2,  2,  2,  2,  2,  1,\n",
       "          1,  1,  2,  2,  1,  2,  2,  3,  3,  4,  5,  4,  5,  6,  5,  4,\n",
       "          5,  5,  4,  4,  5,  5,  4,  5,  4,  3,  4,  3,  4,  3,  3,  3,\n",
       "          2,  2,  2,  2,  2,  3,  3,  2,  1,  2,  3,  3,  2,  2,  2,  3,\n",
       "          3,  3,  3,  4,  3,  3,  3,  3,  4,  4,  3,  3,  3,  3,  3,  3,\n",
       "          2,  2,  2,  2,  3,  3,  4,  5,  5,  5,  5,  5,  5,  5,  4,  3,\n",
       "          4,  5,  5,  6],\n",
       "        [ 0,  0,  0,  1,  2,  1,  1,  2,  1,  2,  1,  2,  1,  0,  1,  1,\n",
       "          0,  1,  1,  0,  0,  0,  1,  1,  0,  0,  0,  0,  0,  0,  0,  0,\n",
       "          0,  1,  1,  0,  0, -1, -1, -1, -1, -1, -1, -1, -1, -1,  0, -1,\n",
       "         -1, -2, -3, -4, -3, -3, -2, -2, -2, -2, -2, -3, -3, -2, -3, -3,\n",
       "         -2, -3, -4, -4, -4, -3, -4, -5, -5, -6, -6, -5, -6, -7, -8, -9,\n",
       "         -9, -8, -7, -6, -6, -7, -7, -7, -6, -5, -4, -3, -2, -3, -3, -3,\n",
       "         -3, -3, -4, -4]], dtype=int32)]"
      ]
     },
     "execution_count": 18,
     "metadata": {},
     "output_type": "execute_result"
    }
   ],
   "source": [
    "Stories"
   ]
  },
  {
   "cell_type": "code",
   "execution_count": 23,
   "metadata": {},
   "outputs": [
    {
     "data": {
      "image/png": "[encoded data removed]",
      "text/plain": [
       "<Figure size 432x288 with 1 Axes>"
      ]
     },
     "metadata": {
      "needs_background": "light"
     },
     "output_type": "display_data"
    }
   ],
   "source": [
    "clist = ['g', 'r', 'b', 'y']\n",
    "plt.xlim(-30,30)\n",
    "plt.ylim(-30,30)\n",
    "for c, positions in zip(clist, Stories):\n",
    "    plt.plot(positions[0],positions[1], color = c)\n",
    "\n",
    "plt.show()"
   ]
  },
  {
   "cell_type": "code",
   "execution_count": null,
   "metadata": {},
   "outputs": [],
   "source": []
  }
 ],
 "metadata": {
  "kernelspec": {
   "display_name": "Python 3",
   "language": "python",
   "name": "python3"
  },
  "language_info": {
   "codemirror_mode": {
    "name": "ipython",
    "version": 3
   },
   "file_extension": ".py",
   "mimetype": "text/x-python",
   "name": "python",
   "nbconvert_exporter": "python",
   "pygments_lexer": "ipython3",
   "version": "3.7.1"
  }
 },
 "nbformat": 4,
 "nbformat_minor": 2
}
